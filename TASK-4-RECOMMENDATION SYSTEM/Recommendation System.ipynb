{
 "cells": [
  {
   "cell_type": "code",
   "execution_count": 1,
   "id": "fdd40446",
   "metadata": {},
   "outputs": [],
   "source": [
    "import numpy as np"
   ]
  },
  {
   "cell_type": "code",
   "execution_count": 2,
   "id": "80ae33bf",
   "metadata": {},
   "outputs": [],
   "source": [
    "# Sample user-item matrix (rows represent users, columns represent items)\n",
    "user_item_matrix = np.array([\n",
    "    [2, 0,1, 0, 0, 3],\n",
    "    [0,1, 5, 0, 4, 2],\n",
    "    [1, 0, 0, 3, 4, 0],\n",
    "    [0, 2, 0, 5, 0, 3],\n",
    "    [4, 0, 3, 0, 5, 0]\n",
    "])\n"
   ]
  },
  {
   "cell_type": "code",
   "execution_count": 3,
   "id": "5353b711",
   "metadata": {},
   "outputs": [],
   "source": [
    "# Define the number of latent factors (you can experiment with this)\n",
    "num_factors = 2\n"
   ]
  },
  {
   "cell_type": "code",
   "execution_count": 4,
   "id": "1e71e7b0",
   "metadata": {},
   "outputs": [],
   "source": [
    "# Initialize user and item matrices with random values\n",
    "num_users, num_items = user_item_matrix.shape\n",
    "user_matrix = np.random.rand(num_users, num_factors)\n",
    "item_matrix = np.random.rand(num_items, num_factors)"
   ]
  },
  {
   "cell_type": "code",
   "execution_count": 5,
   "id": "db0a82f2",
   "metadata": {},
   "outputs": [],
   "source": [
    "# Number of iterations and learning rate (you can experiment with these)\n",
    "num_iterations = 1000\n",
    "learning_rate = 0.01"
   ]
  },
  {
   "cell_type": "code",
   "execution_count": 6,
   "id": "afdfe039",
   "metadata": {},
   "outputs": [],
   "source": [
    "# Perform matrix factorization using stochastic gradient descent\n",
    "for iteration in range(num_iterations):\n",
    "    for i in range(num_users):\n",
    "        for j in range(num_items):\n",
    "            if user_item_matrix[i][j] > 0:\n",
    "                error_ij = user_item_matrix[i][j] - np.dot(user_matrix[i, :], item_matrix[j, :])\n",
    "                for k in range(num_factors):\n",
    "                    user_matrix[i][k] += learning_rate * (2 * error_ij * item_matrix[j][k])\n",
    "                    item_matrix[j][k] += learning_rate * (2 * error_ij * user_matrix[i][k])\n"
   ]
  },
  {
   "cell_type": "markdown",
   "id": "c44ebbb1",
   "metadata": {},
   "source": [
    "# recommend a user id"
   ]
  },
  {
   "cell_type": "code",
   "execution_count": 7,
   "id": "352992ec",
   "metadata": {},
   "outputs": [],
   "source": [
    "user_id = 1\n",
    "user_preferences = np.dot(user_matrix[user_id, :], item_matrix.T)\n"
   ]
  },
  {
   "cell_type": "code",
   "execution_count": 8,
   "id": "63f54b2d",
   "metadata": {},
   "outputs": [],
   "source": [
    "# Sort the recommendations in descending order\n",
    "recommended_items = np.argsort(user_preferences)[::-1]"
   ]
  },
  {
   "cell_type": "code",
   "execution_count": 9,
   "id": "f3934fe2",
   "metadata": {},
   "outputs": [
    {
     "name": "stdout",
     "output_type": "stream",
     "text": [
      "Recommended items for User 1\n",
      "Item 0\n",
      "Item 3\n"
     ]
    }
   ],
   "source": [
    "# Print the recommended items\n",
    "print(\"Recommended items for User\", user_id)\n",
    "for item_id in recommended_items:\n",
    "    if user_item_matrix[user_id][item_id] == 0:\n",
    "        print(\"Item\", item_id)"
   ]
  },
  {
   "cell_type": "code",
   "execution_count": null,
   "id": "42b72d1f",
   "metadata": {},
   "outputs": [],
   "source": []
  }
 ],
 "metadata": {
  "kernelspec": {
   "display_name": "Python 3 (ipykernel)",
   "language": "python",
   "name": "python3"
  },
  "language_info": {
   "codemirror_mode": {
    "name": "ipython",
    "version": 3
   },
   "file_extension": ".py",
   "mimetype": "text/x-python",
   "name": "python",
   "nbconvert_exporter": "python",
   "pygments_lexer": "ipython3",
   "version": "3.9.13"
  }
 },
 "nbformat": 4,
 "nbformat_minor": 5
}
