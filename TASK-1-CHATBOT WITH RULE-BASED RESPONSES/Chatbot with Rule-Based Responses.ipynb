{
 "cells": [
  {
   "cell_type": "markdown",
   "id": "8c085a3c",
   "metadata": {},
   "source": [
    "# Pizza Ordering Chatbot"
   ]
  },
  {
   "cell_type": "code",
   "execution_count": 1,
   "id": "0b2a64d6",
   "metadata": {},
   "outputs": [],
   "source": [
    "def get_user_input(prompt):\n",
    "    return input(prompt)\n",
    "\n"
   ]
  },
  {
   "cell_type": "code",
   "execution_count": 2,
   "id": "19aa4417",
   "metadata": {},
   "outputs": [],
   "source": [
    "def order_pizza():\n",
    "    pizza_type = get_user_input(\"What kind of pizza would you like?\")\n",
    "    pizza_size = get_user_input(\"What size pizza would you like?\")\n",
    "    delivery_address = get_user_input(\"Where would you like your pizza delivered?\")\n",
    "    phone_number = get_user_input(\"What is your phone number?\")\n",
    "    \n",
    "    if validate_order(pizza_type, pizza_size, delivery_address, phone_number):\n",
    "        print(\"Thank you for your order. Your pizza will be delivered soon.\")\n",
    "    else:\n",
    "        print(\"Invalid input. Please try again.\")\n",
    "\n"
   ]
  },
  {
   "cell_type": "code",
   "execution_count": 3,
   "id": "81c710e9",
   "metadata": {},
   "outputs": [],
   "source": [
    "def validate_order(pizza_type, pizza_size, delivery_address, phone_number):\n",
    "    # Add your validation logic here\n",
    "    if pizza_type in [\"pepperoni\", \"margherita\", \"vegetarian\"]:\n",
    "        if pizza_size in [\"small\", \"medium\", \"large\"]:\n",
    "            if delivery_address:\n",
    "                phone_number = phone_number.replace('-', '')\n",
    "                if len(phone_number) == 10 and phone_number.isdigit():\n",
    "                    return True\n",
    "    return False\n"
   ]
  },
  {
   "cell_type": "code",
   "execution_count": 7,
   "id": "4dc139be",
   "metadata": {
    "scrolled": false
   },
   "outputs": [
    {
     "name": "stdout",
     "output_type": "stream",
     "text": [
      "Hi, I am a chatbot. I can answer simple questions and help you with tasks. What can I do for you today?\n",
      "Please enter your request: I want to order a pizza\n",
      "What kind of pizza would you like?pepperoni\n",
      "What size pizza would you like?small\n",
      "Where would you like your pizza delivered?Filmnagar\n",
      "What is your phone number?9642900065\n",
      "Thank you for your order. Your pizza will be delivered soon.\n"
     ]
    }
   ],
   "source": [
    "def chatbot():\n",
    "    print(\"Hi, I am a chatbot. I can answer simple questions and help you with tasks. What can I do for you today?\")\n",
    "    user_input = get_user_input(\"Please enter your request: \")  # Provide a prompt message\n",
    "    \n",
    "    if user_input == \"I want to order a pizza\":\n",
    "        order_pizza()\n",
    "    else:\n",
    "        print(\"I'm sorry, I can't help you with that. Please try again.\")\n",
    "\n",
    "chatbot()\n",
    "\n"
   ]
  },
  {
   "cell_type": "code",
   "execution_count": null,
   "id": "e28d3b1c",
   "metadata": {},
   "outputs": [],
   "source": []
  }
 ],
 "metadata": {
  "kernelspec": {
   "display_name": "Python 3 (ipykernel)",
   "language": "python",
   "name": "python3"
  },
  "language_info": {
   "codemirror_mode": {
    "name": "ipython",
    "version": 3
   },
   "file_extension": ".py",
   "mimetype": "text/x-python",
   "name": "python",
   "nbconvert_exporter": "python",
   "pygments_lexer": "ipython3",
   "version": "3.9.13"
  }
 },
 "nbformat": 4,
 "nbformat_minor": 5
}
